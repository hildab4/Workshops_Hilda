{
  "nbformat": 4,
  "nbformat_minor": 0,
  "metadata": {
    "colab": {
      "provenance": []
    },
    "kernelspec": {
      "name": "python3",
      "display_name": "Python 3"
    },
    "language_info": {
      "name": "python"
    }
  },
  "cells": [
    {
      "cell_type": "markdown",
      "source": [
        "# Hilda Beltrán Acosta\n",
        "\n",
        "### A01251916\n",
        "\n",
        "### Workshop 2\n",
        "\n",
        "### August 22nd, 2023"
      ],
      "metadata": {
        "id": "huZr7fweGeUR"
      }
    },
    {
      "cell_type": "code",
      "source": [
        "!pip install symbulate"
      ],
      "metadata": {
        "colab": {
          "base_uri": "https://localhost:8080/"
        },
        "id": "0rU5Ixtp8cMf",
        "outputId": "fad81889-1202-49b8-98ad-4685ccc7f1e0"
      },
      "execution_count": 1,
      "outputs": [
        {
          "output_type": "stream",
          "name": "stdout",
          "text": [
            "Collecting symbulate\n",
            "  Downloading symbulate-0.5.7-py3-none-any.whl (44 kB)\n",
            "\u001b[2K     \u001b[90m━━━━━━━━━━━━━━━━━━━━━━━━━━━━━━━━━━━━━━━\u001b[0m \u001b[32m44.9/44.9 kB\u001b[0m \u001b[31m908.8 kB/s\u001b[0m eta \u001b[36m0:00:00\u001b[0m\n",
            "\u001b[?25hRequirement already satisfied: numpy in /usr/local/lib/python3.10/dist-packages (from symbulate) (1.23.5)\n",
            "Requirement already satisfied: scipy in /usr/local/lib/python3.10/dist-packages (from symbulate) (1.10.1)\n",
            "Requirement already satisfied: matplotlib in /usr/local/lib/python3.10/dist-packages (from symbulate) (3.7.1)\n",
            "Requirement already satisfied: contourpy>=1.0.1 in /usr/local/lib/python3.10/dist-packages (from matplotlib->symbulate) (1.1.0)\n",
            "Requirement already satisfied: cycler>=0.10 in /usr/local/lib/python3.10/dist-packages (from matplotlib->symbulate) (0.11.0)\n",
            "Requirement already satisfied: fonttools>=4.22.0 in /usr/local/lib/python3.10/dist-packages (from matplotlib->symbulate) (4.42.0)\n",
            "Requirement already satisfied: kiwisolver>=1.0.1 in /usr/local/lib/python3.10/dist-packages (from matplotlib->symbulate) (1.4.4)\n",
            "Requirement already satisfied: packaging>=20.0 in /usr/local/lib/python3.10/dist-packages (from matplotlib->symbulate) (23.1)\n",
            "Requirement already satisfied: pillow>=6.2.0 in /usr/local/lib/python3.10/dist-packages (from matplotlib->symbulate) (9.4.0)\n",
            "Requirement already satisfied: pyparsing>=2.3.1 in /usr/local/lib/python3.10/dist-packages (from matplotlib->symbulate) (3.1.1)\n",
            "Requirement already satisfied: python-dateutil>=2.7 in /usr/local/lib/python3.10/dist-packages (from matplotlib->symbulate) (2.8.2)\n",
            "Requirement already satisfied: six>=1.5 in /usr/local/lib/python3.10/dist-packages (from python-dateutil>=2.7->matplotlib->symbulate) (1.16.0)\n",
            "Installing collected packages: symbulate\n",
            "Successfully installed symbulate-0.5.7\n"
          ]
        }
      ]
    },
    {
      "cell_type": "code",
      "execution_count": 2,
      "metadata": {
        "id": "3eygGk3d7kj7"
      },
      "outputs": [],
      "source": [
        "# Import symbulate in order to simulate probability based events\n",
        "from symbulate import *\n",
        "\n",
        "# Import matplotlib modules to help plot data\n",
        "import matplotlib\n",
        "import matplotlib.pyplot as plt\n",
        "import numpy as np"
      ]
    },
    {
      "cell_type": "code",
      "source": [
        "# Clear figure before plotting new data\n",
        "plt.clf()\n",
        "# Define a uniform random variable from 0 to 40\n",
        "P = Uniform(0,40)\n",
        "# Object of type P\n",
        "X =RV(P)\n",
        "# Simulate 10, 000 times the random variable, then plot it\n",
        "x=X.sim(10000)\n",
        "x.plot()\n",
        "plt.show()"
      ],
      "metadata": {
        "colab": {
          "base_uri": "https://localhost:8080/",
          "height": 434
        },
        "id": "_f3ld5t38hw9",
        "outputId": "f74746d7-4e83-4ba4-bc8f-e437368fdfeb"
      },
      "execution_count": 3,
      "outputs": [
        {
          "output_type": "display_data",
          "data": {
            "text/plain": [
              "<Figure size 640x480 with 1 Axes>"
            ],
            "image/png": "[encoded data removed]"
          },
          "metadata": {}
        }
      ]
    },
    {
      "cell_type": "markdown",
      "source": [
        "CHALLENGE 2.2.2 A\n",
        "\n",
        "CALCULATE THE MEAN AND STANDARD DEVIATION OF THIS SIMULATED UNIFORM x VARIABLE. HOW CLOSE WERE THESE MEAN AND STANDARD DEVIATION FROM THE THEORETICAL MEAN AND STANDARD DEVIATION?"
      ],
      "metadata": {
        "id": "wuIT5_8a-ivO"
      }
    },
    {
      "cell_type": "code",
      "source": [
        "# Calculate mean and standard deviation from x, which stores the simulated data\n",
        "print('Mean of simulated data')\n",
        "print(x.mean())\n",
        "print('\\nStandard deviation of simulated data')\n",
        "print(x.std())\n",
        "print('\\nVariance of simulated data')\n",
        "print(x.std() ** 2)"
      ],
      "metadata": {
        "colab": {
          "base_uri": "https://localhost:8080/"
        },
        "id": "qoLMOhvh9ZjT",
        "outputId": "cdbc65ed-b5fe-490a-d147-e48adecb0237"
      },
      "execution_count": 4,
      "outputs": [
        {
          "output_type": "stream",
          "name": "stdout",
          "text": [
            "Mean of simulated data\n",
            "19.966746671307295\n",
            "\n",
            "Standard deviation of simulated data\n",
            "11.538008423754833\n",
            "\n",
            "Variance of simulated data\n",
            "133.1256383866375\n"
          ]
        }
      ]
    },
    {
      "cell_type": "code",
      "source": [
        "# Define theoretical values for mean and standard deviation\n",
        "x_mean = 20\n",
        "x_std = np.sqrt(133.333)\n",
        "x_var = 133.333\n",
        "print('Mean of theoretical data')\n",
        "print(x_mean)\n",
        "print('\\nStandard deviation of theoretical data')\n",
        "print(x_std)\n",
        "print('\\nVariance of theoretical data')\n",
        "print(x_var)"
      ],
      "metadata": {
        "colab": {
          "base_uri": "https://localhost:8080/"
        },
        "id": "Dc0NWxeK9JWK",
        "outputId": "5cb664f4-e0ca-45ef-92f5-3af9d2107dd2"
      },
      "execution_count": 5,
      "outputs": [
        {
          "output_type": "stream",
          "name": "stdout",
          "text": [
            "Mean of theoretical data\n",
            "20\n",
            "\n",
            "Standard deviation of theoretical data\n",
            "11.546990950026764\n",
            "\n",
            "Variance of theoretical data\n",
            "133.333\n"
          ]
        }
      ]
    },
    {
      "cell_type": "markdown",
      "source": [
        "THE MEAN VALUE OF THE SIMULATED DATA AND THE THEORETICAL DATA IS REALLY CLOSE, THE DIFFERENCE IS OF ~-0.177; WHILE THE DIFFERENCE IN STANDARD DEVIATION IS OF ~0.0152. IN TERMS OF VARIANCE, THE STANDARD DEVIATION TO THE POWER OF 2, THE VARIANCE STAYS CLOSE, SINCE THE STANDARD DEVIATION HAS A SMALL DIFFERENCE BETWEEN BOTH SETS OF DATA. THIS DIFFERENCE IS OF ~0.351."
      ],
      "metadata": {
        "id": "Sr-lyl-4ActY"
      }
    },
    {
      "cell_type": "markdown",
      "source": [
        "CHALLENGE 2.2.2 B\n",
        "\n",
        "INTERPET THE ABOVE HISTOGRAM. WHAT DO YOU SEE? EXPLAIN WITH YOUR WORDS.\n",
        "\n",
        "WHAT WE CAN SEE IN THIS HISTOGRAM IS THAT EVERY POSSIBLE OUTPUT, OR RANDOM VARIABLE, HAS ALMOST THE SAME PROBABILITY OF HAPPENING. THIS IS BECAUSE WE ARE PLOTTING THE SIMULATION OF A SINGLE UNIFORM VARIABLE AND, THEORETICALLY, EACH OF THE OUTPUTS, IN THIS CASE NUMBERS FROM 0 TO 40, HAVE THE SAME PROBABILITY OF BEING DRAWN OUT."
      ],
      "metadata": {
        "id": "lS6w0e3qB9KZ"
      }
    },
    {
      "cell_type": "code",
      "source": [
        "# Define 25 uniform random numbers, between 0 and 40\n",
        "P = Uniform(0,40) ** 25\n",
        "# Define them as random variables\n",
        "XVECTOR =RV(P)\n",
        "# Simulate 10, 000 times the random variable, then plot it\n",
        "xmatrix=XVECTOR.sim(10000)\n",
        "xmatrix"
      ],
      "metadata": {
        "id": "v6CN-dtGHCU3",
        "colab": {
          "base_uri": "https://localhost:8080/",
          "height": 275
        },
        "outputId": "ea385f3e-ee77-4147-823d-91d643e8f120"
      },
      "execution_count": 6,
      "outputs": [
        {
          "output_type": "execute_result",
          "data": {
            "text/plain": [
              "Index Result\n",
              "0     (19.154214864326203, 31.425690948672656, 35.33429144797503, 13.751617359996438, 4.998903199378306, ..., 24.77467380760311)\n",
              "1     (17.00255071745911, 33.719890293898814, 2.952446084793978, 9.113764176787935, 10.557146025534045, ..., 28.69901173670131)\n",
              "2     (32.340138497383904, 39.96686575922578, 11.851777937187542, 0.4257939462904714, 35.026762000166165, ..., 14.402046199494078)\n",
              "3     (38.77741923257134, 2.291043448562964, 30.261113550932563, 29.78579489022038, 29.646557442845186, ..., 34.23450086188349)\n",
              "4     (0.14215373033379386, 14.072358136713694, 38.705327817712224, 18.99066741304205, 33.9397979395425, ..., 23.491156437581072)\n",
              "5     (13.568867989547284, 2.5152891992612503, 18.541165725083168, 25.461358229936884, 32.13566192899977, ..., 31.44079181755061)\n",
              "6     (23.132236714877145, 6.457743936707914, 19.268325622100612, 9.180921107077102, 8.020184720436148, ..., 39.3543323367759)\n",
              "7     (31.527425593571387, 33.57801977488936, 32.68689180540065, 22.246346249168937, 13.986161182839787, ..., 4.994075115712047)\n",
              "8     (34.50880913451713, 13.597796117516001, 28.888624438341992, 23.36842159069855, 30.668723183725064, ..., 33.25730212641625)\n",
              "....  ......................................................................................................................\n",
              "9999  (5.514925606512171, 2.8983436338905255, 3.33574763691586, 23.8110907096697, 34.60335199383951, ..., 36.40712045773857)"
            ],
            "text/html": [
              "\n",
              "    <table>\n",
              "      <thead>\n",
              "        <th width=\"10%\">Index</th>\n",
              "        <th width=\"90%\">Result</th>\n",
              "      </thead>\n",
              "      <tbody>\n",
              "        \n",
              "        <tr>\n",
              "          <td>0</td><td>(19.154214864326203, 31.425690948672656, 35.33429144797503, 13.751617359996438, 4.998903199378306, ....</td>\n",
              "        </tr>\n",
              "        \n",
              "        <tr>\n",
              "          <td>1</td><td>(17.00255071745911, 33.719890293898814, 2.952446084793978, 9.113764176787935, 10.557146025534045, .....</td>\n",
              "        </tr>\n",
              "        \n",
              "        <tr>\n",
              "          <td>2</td><td>(32.340138497383904, 39.96686575922578, 11.851777937187542, 0.4257939462904714, 35.026762000166165, ...</td>\n",
              "        </tr>\n",
              "        \n",
              "        <tr>\n",
              "          <td>3</td><td>(38.77741923257134, 2.291043448562964, 30.261113550932563, 29.78579489022038, 29.646557442845186, .....</td>\n",
              "        </tr>\n",
              "        \n",
              "        <tr>\n",
              "          <td>4</td><td>(0.14215373033379386, 14.072358136713694, 38.705327817712224, 18.99066741304205, 33.9397979395425, ....</td>\n",
              "        </tr>\n",
              "        \n",
              "        <tr>\n",
              "          <td>5</td><td>(13.568867989547284, 2.5152891992612503, 18.541165725083168, 25.461358229936884, 32.13566192899977, ...</td>\n",
              "        </tr>\n",
              "        \n",
              "        <tr>\n",
              "          <td>6</td><td>(23.132236714877145, 6.457743936707914, 19.268325622100612, 9.180921107077102, 8.020184720436148, .....</td>\n",
              "        </tr>\n",
              "        \n",
              "        <tr>\n",
              "          <td>7</td><td>(31.527425593571387, 33.57801977488936, 32.68689180540065, 22.246346249168937, 13.986161182839787, ....</td>\n",
              "        </tr>\n",
              "        \n",
              "        <tr>\n",
              "          <td>8</td><td>(34.50880913451713, 13.597796117516001, 28.888624438341992, 23.36842159069855, 30.668723183725064, ....</td>\n",
              "        </tr>\n",
              "        <tr><td>...</td><td>...</td></tr>\n",
              "        <tr>\n",
              "          <td>9999</td><td>(5.514925606512171, 2.8983436338905255, 3.33574763691586, 23.8110907096697, 34.60335199383951, ..., ...</td>\n",
              "        </tr>\n",
              "        \n",
              "      </tbody>\n",
              "    </table>\n",
              "        "
            ]
          },
          "metadata": {},
          "execution_count": 6
        }
      ]
    },
    {
      "cell_type": "code",
      "source": [
        "# Calculate the mean of each row, with the 25 random variables\n",
        "xmean = RV(P,mean).sim(10000)\n",
        "xmean"
      ],
      "metadata": {
        "id": "Y_l_9atzIbL1",
        "colab": {
          "base_uri": "https://localhost:8080/",
          "height": 275
        },
        "outputId": "f1ea95a8-403e-4fe7-bdbd-022158086b43"
      },
      "execution_count": 7,
      "outputs": [
        {
          "output_type": "execute_result",
          "data": {
            "text/plain": [
              "Index Result\n",
              "0     22.96816796655759\n",
              "1     19.786131074913527\n",
              "2     18.954037682787927\n",
              "3     16.59532455897971\n",
              "4     20.480700400504976\n",
              "5     20.849768930973223\n",
              "6     20.564542270827697\n",
              "7     20.2339742215423\n",
              "8     22.0514772675017\n",
              "....  .................\n",
              "9999  19.73238827166997"
            ],
            "text/html": [
              "\n",
              "    <table>\n",
              "      <thead>\n",
              "        <th width=\"10%\">Index</th>\n",
              "        <th width=\"90%\">Result</th>\n",
              "      </thead>\n",
              "      <tbody>\n",
              "        \n",
              "        <tr>\n",
              "          <td>0</td><td>22.96816796655759</td>\n",
              "        </tr>\n",
              "        \n",
              "        <tr>\n",
              "          <td>1</td><td>19.786131074913527</td>\n",
              "        </tr>\n",
              "        \n",
              "        <tr>\n",
              "          <td>2</td><td>18.954037682787927</td>\n",
              "        </tr>\n",
              "        \n",
              "        <tr>\n",
              "          <td>3</td><td>16.59532455897971</td>\n",
              "        </tr>\n",
              "        \n",
              "        <tr>\n",
              "          <td>4</td><td>20.480700400504976</td>\n",
              "        </tr>\n",
              "        \n",
              "        <tr>\n",
              "          <td>5</td><td>20.849768930973223</td>\n",
              "        </tr>\n",
              "        \n",
              "        <tr>\n",
              "          <td>6</td><td>20.564542270827697</td>\n",
              "        </tr>\n",
              "        \n",
              "        <tr>\n",
              "          <td>7</td><td>20.2339742215423</td>\n",
              "        </tr>\n",
              "        \n",
              "        <tr>\n",
              "          <td>8</td><td>22.0514772675017</td>\n",
              "        </tr>\n",
              "        <tr><td>...</td><td>...</td></tr>\n",
              "        <tr>\n",
              "          <td>9999</td><td>19.73238827166997</td>\n",
              "        </tr>\n",
              "        \n",
              "      </tbody>\n",
              "    </table>\n",
              "        "
            ]
          },
          "metadata": {},
          "execution_count": 7
        }
      ]
    },
    {
      "cell_type": "code",
      "source": [
        "# Clean the figure before plotting\n",
        "plt.clf()\n",
        "# Plot the means calculated before\n",
        "xmean.plot()\n",
        "plt.show()"
      ],
      "metadata": {
        "id": "WZi_hZZ2IcAa",
        "colab": {
          "base_uri": "https://localhost:8080/",
          "height": 430
        },
        "outputId": "c64e76f5-2114-4f9a-cac5-9d2b40e63061"
      },
      "execution_count": 8,
      "outputs": [
        {
          "output_type": "display_data",
          "data": {
            "text/plain": [
              "<Figure size 640x480 with 1 Axes>"
            ],
            "image/png": "[encoded data removed]"
          },
          "metadata": {}
        }
      ]
    },
    {
      "cell_type": "markdown",
      "source": [
        "CHALLENGE 2.2.3 A\n",
        "\n",
        "CALCULATE THE MEAN AND STANDARD DEVIATION OF THE xmean VARIABLE. HOW SIMILAR OR DIFFERENT ARE THESE VALUES FROM THE MEAN AND STANDARD DEVIATION OF x?"
      ],
      "metadata": {
        "id": "f0EOx-je5GIJ"
      }
    },
    {
      "cell_type": "code",
      "source": [
        "# Calculate mean and standard deviation from x, which stores the simulated data\n",
        "print('Mean of simulated data')\n",
        "print(x.mean())\n",
        "print('\\nStandard deviation of simulated data')\n",
        "print(x.std())\n",
        "print('\\nVariance of simulated data')\n",
        "print(x.std() ** 2)"
      ],
      "metadata": {
        "colab": {
          "base_uri": "https://localhost:8080/"
        },
        "id": "Pp1ccdw4YBLY",
        "outputId": "d4a78ea5-7ca0-4f8e-ed52-804240d441a0"
      },
      "execution_count": 9,
      "outputs": [
        {
          "output_type": "stream",
          "name": "stdout",
          "text": [
            "Mean of simulated data\n",
            "19.966746671307295\n",
            "\n",
            "Standard deviation of simulated data\n",
            "11.538008423754833\n",
            "\n",
            "Variance of simulated data\n",
            "133.1256383866375\n"
          ]
        }
      ]
    },
    {
      "cell_type": "code",
      "source": [
        "# Calculate mean and standard deviation from xmean, which stores the mean of the simulated data\n",
        "print('Mean of xmean')\n",
        "print(xmean.mean())\n",
        "print('\\nStandard deviation of xmean')\n",
        "print(xmean.std())\n",
        "print('\\nVariance of xmean')\n",
        "print(xmean.std() ** 2)"
      ],
      "metadata": {
        "colab": {
          "base_uri": "https://localhost:8080/"
        },
        "id": "R0Kt5lQkYPoV",
        "outputId": "c2c29130-abe9-457e-d80e-d68f2d821f35"
      },
      "execution_count": 10,
      "outputs": [
        {
          "output_type": "stream",
          "name": "stdout",
          "text": [
            "Mean of xmean\n",
            "20.017951078118287\n",
            "\n",
            "Standard deviation of xmean\n",
            "2.312137536098466\n",
            "\n",
            "Variance of xmean\n",
            "5.345979985835485\n"
          ]
        }
      ]
    },
    {
      "cell_type": "markdown",
      "source": [
        "COMPARING MEAN, STANDARD DEVIATION AND VARIANCE BETWEEN THE XMEAN VARIABLE AND THE X VARIABLE, WE CAN SEE THERE'S NOT SIGNIFICANT CHANGE, SINCE IT'S A DIFFERENCE OF ~0.051. WHERE WE CAN SEE A SIGNIFICANT CHANGE IS IN THE STANDARD DEVIATION AND THE VARIANCE OF BOTH VARIABLES. THE STANDARD DEVIATION AND VARIANCE IS WAY SMALLER IN THE XMEAN VARIABLE, SINCE WE'RE GETTING THE STD AND VARIANCE FROM THE MEAN OF 25 UNIFORM VALUES, GIVING US LESS DISPERSE DATA."
      ],
      "metadata": {
        "id": "Q1vuanBtZFvb"
      }
    },
    {
      "cell_type": "markdown",
      "source": [
        "CHALLENGE 2.2.3 B\n",
        "\n",
        "WHAT DO YOU SEE IN THE ABOVE HISTOGRAM? DOES THE HISTOGRAM OF SAMPLE MEANS OF UNIFORM RANDOM VARIABLE LOOK LIKE A UNIFORM DISTRIBUTED VARIABLE? DO YOU SEE A LOGIC? BRIEFLY EXPLAIN WHAT YOU THINK.\n",
        "\n",
        "AFTER ANALYZING BOTH HISTOGRAMS, MY THOUGHT IS THE SAMPLE MEANS OF UNIFORM RANDOM VARIABLE DOESN'T LOOK LIKE A UNIFORM DISTRIBUTED VARIABLE, SINCE THE UNIFORM DISTRIBUTED VARIABLE THERE'S ALMOST THE SAME PROBABILITY OF GETTING A 0 OR GETTING A 40. WHEREAS IN THE SAMPLE MEANS OF UNIFORM RANDOM VARIABLE, WE HAVE A SMALLER STANDARD DEVIATION, THEREFORE A SMALLER VARIANCE IN OUR DATA. TAKING INTO CONSIDERATION THAT OUR MEAN IS ~20.018, AND WE HAVE A STANDARD DEVIATION OF ~2.31, MOST OF OUR MOST FREQUENT DATA, 95%, WOULD BE BETWEEN 15.4 AND 24.6."
      ],
      "metadata": {
        "id": "dnMr4tDD5PaP"
      }
    },
    {
      "cell_type": "code",
      "source": [
        "# Clean the figure before plotting\n",
        "plt.clf()\n",
        "# Plot the means calculated before\n",
        "xmean.plot()\n",
        "# Plot the uniform variable x\n",
        "x.plot()\n",
        "plt.show()"
      ],
      "metadata": {
        "colab": {
          "base_uri": "https://localhost:8080/",
          "height": 430
        },
        "id": "Swxqz5D75Um-",
        "outputId": "3e381357-da54-4c9c-e769-a4b30ea0cc0c"
      },
      "execution_count": 11,
      "outputs": [
        {
          "output_type": "display_data",
          "data": {
            "text/plain": [
              "<Figure size 640x480 with 1 Axes>"
            ],
            "image/png": "[encoded data removed]"
          },
          "metadata": {}
        }
      ]
    },
    {
      "cell_type": "markdown",
      "source": [
        "CHALLENGE 2.2.3 C\n",
        "\n",
        "WHAT DO YOU SEE? HOW THE HISTOGRAM OF X DIFFERS FROM THE HISTOGRAM OF THE SAMPLES OF X?\n",
        "\n",
        "HERE WE CAN SEE WHAT WAS MENTIONED BEFORE, SINCE THE X VARIABLE HAS ALMOST THE SAME PROBABILITY OF BEING DRAWN OUT, THE DENSITY IN EACH OF THE DATA IS LOW WITH RESPECT TO THE XMEAN VARIABLE. THIS DIFFERENCE CAN BE SEEN SPECIALLY WITHIN THE MOST CLOSE VALUES TO THE MEAN, SINCE THE MOST FREQUENT DATA IS NEAR THE MEAN."
      ],
      "metadata": {
        "id": "OXy7y_DY5w3K"
      }
    },
    {
      "cell_type": "code",
      "source": [
        "# Clean the figure before plotting\n",
        "plt.clf()\n",
        "# Create a normal distributed variable, with a mean of 20 and a std of 10\n",
        "P = Normal(mean=20, sd=10)\n",
        "# Define it as random variables\n",
        "Y =RV(P)\n",
        "# Simulate 10, 000 times the random variable, then plot it\n",
        "y=Y.sim(10000)\n",
        "y.plot()\n",
        "plt.show()"
      ],
      "metadata": {
        "colab": {
          "base_uri": "https://localhost:8080/",
          "height": 430
        },
        "id": "yHjFPcw95zpK",
        "outputId": "8cb3b501-f13d-441d-e2c2-c37813621642"
      },
      "execution_count": 12,
      "outputs": [
        {
          "output_type": "display_data",
          "data": {
            "text/plain": [
              "<Figure size 640x480 with 1 Axes>"
            ],
            "image/png": "[encoded data removed]"
          },
          "metadata": {}
        }
      ]
    },
    {
      "cell_type": "markdown",
      "source": [
        "CHALLENGE 2.2.5 A\n",
        "\n",
        "CALCULATE THE MEAN AND STANDARD DEVIATION OF THIS RANDOM y VARIABLE. HOW SIMILAR OR DIFFERENT ARE THESE VALUES FROM THE MEAN AND STANDARD DEVIATION OF THE THEORETICAL MEAN (20) AND THE THEORETICAL STANDARD DEVIATION (10)?"
      ],
      "metadata": {
        "id": "6_H9wJtM7FVB"
      }
    },
    {
      "cell_type": "code",
      "source": [
        "# Calculate mean and standard deviation from y\n",
        "print('Mean of y')\n",
        "print(y.mean())\n",
        "print('\\nStandard deviation of y')\n",
        "print(y.std())\n",
        "print('\\nVariance of y')\n",
        "print(y.std() ** 2)"
      ],
      "metadata": {
        "colab": {
          "base_uri": "https://localhost:8080/"
        },
        "id": "TQzWKlIVfNvG",
        "outputId": "c65add48-2d42-4bdd-a238-71ab5d308691"
      },
      "execution_count": 18,
      "outputs": [
        {
          "output_type": "stream",
          "name": "stdout",
          "text": [
            "Mean of y\n",
            "19.794289322790764\n",
            "\n",
            "Standard deviation of y\n",
            "9.988194015514356\n",
            "\n",
            "Variance of y\n",
            "99.7640196915568\n"
          ]
        }
      ]
    },
    {
      "cell_type": "markdown",
      "source": [
        "WE CAN OBSERVE THAT THE MEAN OF Y AND THE THEORETICAL MEAN (20) ARE CLOSE, SINCE OUR Y'S MEAN IS OF ~19.79, AND OUR STANDARD DEVIATION OF Y IS ~9.988 WHEN OUR THEORETICAL STANDARD DEVIATION IS 10."
      ],
      "metadata": {
        "id": "GE3O8vcHf7YB"
      }
    },
    {
      "cell_type": "markdown",
      "source": [
        "CHALLENGE 2.2.5 B\n",
        "\n",
        "WHAT DO YOU SEE? INTERPRET THE HISTOGRAM WITH YOUR WORDS.\n",
        "\n",
        "SINCE WE CREATED A NORMAL DISTRIBUTED VARIABLE WITH MEAN 20 AND STD 10, MOST OF THE DATA WILL BE GROUPED BETWEEN THE VALUES 0 AND 40, THIS IS WHERE 95% OF OUR OUTPUTS WILL BE FOUND."
      ],
      "metadata": {
        "id": "LEhG5Re47foU"
      }
    },
    {
      "cell_type": "code",
      "source": [
        "# Define 25 uniform numbers, with mean 20 and std 10\n",
        "P = Normal(mean=20, sd=10) ** 25\n",
        "# Define vector of the 25 uniform numbers\n",
        "RANDOMVECTOR = RV(P)\n",
        "# Simulate 10, 000 of these vectors\n",
        "ymatrix=RANDOMVECTOR.sim(10000)\n",
        "ymatrix"
      ],
      "metadata": {
        "id": "6Dl8p8Yx7Bm6",
        "colab": {
          "base_uri": "https://localhost:8080/",
          "height": 275
        },
        "outputId": "1a3cb9dc-1734-4a9f-ef29-fea9fab74e73"
      },
      "execution_count": 14,
      "outputs": [
        {
          "output_type": "execute_result",
          "data": {
            "text/plain": [
              "Index Result\n",
              "0     (23.44253867773077, 9.29328773400462, 6.789525597664737, 20.742677172301974, 30.526222398600744, ..., 23.80239039018615)\n",
              "1     (11.99971705596958, 38.143277293057885, 10.171779988857496, -0.6686537510633883, 29.75170101558359, ..., 42.689789604805064)\n",
              "2     (16.68186286161343, 14.378132991682378, 23.331813677569066, 16.350500278557693, 19.13419401782564, ..., 17.51851958612069)\n",
              "3     (5.907491499738061, 14.046624030526848, 18.51977974086293, 5.498044889068758, 3.0848417320114265, ..., 17.903737304149903)\n",
              "4     (38.61290176460725, 7.829571926012793, 18.658107409285336, 25.567516969021383, 30.64613065004696, ..., 28.808584680141895)\n",
              "5     (40.12535524633017, 20.15331310432873, -1.2056947127137327, 27.97633059289731, 20.147272845147825, ..., 36.640204995313184)\n",
              "6     (33.74690166191153, 26.41348811500208, 21.459567140729224, 26.43222547484993, 26.259878514203084, ..., 30.412551949594864)\n",
              "7     (23.256674497496697, 14.567841743565374, 7.0069970671444395, 26.00568744866375, 22.57431217684946, ..., 27.364555797851466)\n",
              "8     (27.73917908962379, 3.4975861017635523, 11.175920541716751, 28.60437114504935, 13.106517168561492, ..., 18.958300499468482)\n",
              "....  ............................................................................................................................\n",
              "9999  (-1.4194802571703882, 17.36609464264211, 6.814871105856437, 25.591456272615048, 26.683706900769177, ..., 21.681659430285897)"
            ],
            "text/html": [
              "\n",
              "    <table>\n",
              "      <thead>\n",
              "        <th width=\"10%\">Index</th>\n",
              "        <th width=\"90%\">Result</th>\n",
              "      </thead>\n",
              "      <tbody>\n",
              "        \n",
              "        <tr>\n",
              "          <td>0</td><td>(23.44253867773077, 9.29328773400462, 6.789525597664737, 20.742677172301974, 30.526222398600744, ......</td>\n",
              "        </tr>\n",
              "        \n",
              "        <tr>\n",
              "          <td>1</td><td>(11.99971705596958, 38.143277293057885, 10.171779988857496, -0.6686537510633883, 29.75170101558359, ...</td>\n",
              "        </tr>\n",
              "        \n",
              "        <tr>\n",
              "          <td>2</td><td>(16.68186286161343, 14.378132991682378, 23.331813677569066, 16.350500278557693, 19.13419401782564, ....</td>\n",
              "        </tr>\n",
              "        \n",
              "        <tr>\n",
              "          <td>3</td><td>(5.907491499738061, 14.046624030526848, 18.51977974086293, 5.498044889068758, 3.0848417320114265, .....</td>\n",
              "        </tr>\n",
              "        \n",
              "        <tr>\n",
              "          <td>4</td><td>(38.61290176460725, 7.829571926012793, 18.658107409285336, 25.567516969021383, 30.64613065004696, .....</td>\n",
              "        </tr>\n",
              "        \n",
              "        <tr>\n",
              "          <td>5</td><td>(40.12535524633017, 20.15331310432873, -1.2056947127137327, 27.97633059289731, 20.147272845147825, ....</td>\n",
              "        </tr>\n",
              "        \n",
              "        <tr>\n",
              "          <td>6</td><td>(33.74690166191153, 26.41348811500208, 21.459567140729224, 26.43222547484993, 26.259878514203084, .....</td>\n",
              "        </tr>\n",
              "        \n",
              "        <tr>\n",
              "          <td>7</td><td>(23.256674497496697, 14.567841743565374, 7.0069970671444395, 26.00568744866375, 22.57431217684946, ....</td>\n",
              "        </tr>\n",
              "        \n",
              "        <tr>\n",
              "          <td>8</td><td>(27.73917908962379, 3.4975861017635523, 11.175920541716751, 28.60437114504935, 13.106517168561492, ....</td>\n",
              "        </tr>\n",
              "        <tr><td>...</td><td>...</td></tr>\n",
              "        <tr>\n",
              "          <td>9999</td><td>(-1.4194802571703882, 17.36609464264211, 6.814871105856437, 25.591456272615048, 26.683706900769177, ...</td>\n",
              "        </tr>\n",
              "        \n",
              "      </tbody>\n",
              "    </table>\n",
              "        "
            ]
          },
          "metadata": {},
          "execution_count": 14
        }
      ]
    },
    {
      "cell_type": "code",
      "source": [
        "# Simulate the means of the uniform numbers\n",
        "ymean = RV(P,mean).sim(10000)\n",
        "ymean"
      ],
      "metadata": {
        "colab": {
          "base_uri": "https://localhost:8080/",
          "height": 275
        },
        "id": "uXw-Hs9YG7c4",
        "outputId": "132ca94e-ba66-427a-c5d8-33b94e1bdba1"
      },
      "execution_count": 15,
      "outputs": [
        {
          "output_type": "execute_result",
          "data": {
            "text/plain": [
              "Index Result\n",
              "0     19.56877254784224\n",
              "1     21.00815596140137\n",
              "2     18.58623190146563\n",
              "3     20.624937953160483\n",
              "4     20.17927899669826\n",
              "5     19.84230216862213\n",
              "6     20.97652923089589\n",
              "7     16.48929433042535\n",
              "8     20.12745477157872\n",
              "....  ..................\n",
              "9999  20.627627893442394"
            ],
            "text/html": [
              "\n",
              "    <table>\n",
              "      <thead>\n",
              "        <th width=\"10%\">Index</th>\n",
              "        <th width=\"90%\">Result</th>\n",
              "      </thead>\n",
              "      <tbody>\n",
              "        \n",
              "        <tr>\n",
              "          <td>0</td><td>19.56877254784224</td>\n",
              "        </tr>\n",
              "        \n",
              "        <tr>\n",
              "          <td>1</td><td>21.00815596140137</td>\n",
              "        </tr>\n",
              "        \n",
              "        <tr>\n",
              "          <td>2</td><td>18.58623190146563</td>\n",
              "        </tr>\n",
              "        \n",
              "        <tr>\n",
              "          <td>3</td><td>20.624937953160483</td>\n",
              "        </tr>\n",
              "        \n",
              "        <tr>\n",
              "          <td>4</td><td>20.17927899669826</td>\n",
              "        </tr>\n",
              "        \n",
              "        <tr>\n",
              "          <td>5</td><td>19.84230216862213</td>\n",
              "        </tr>\n",
              "        \n",
              "        <tr>\n",
              "          <td>6</td><td>20.97652923089589</td>\n",
              "        </tr>\n",
              "        \n",
              "        <tr>\n",
              "          <td>7</td><td>16.48929433042535</td>\n",
              "        </tr>\n",
              "        \n",
              "        <tr>\n",
              "          <td>8</td><td>20.12745477157872</td>\n",
              "        </tr>\n",
              "        <tr><td>...</td><td>...</td></tr>\n",
              "        <tr>\n",
              "          <td>9999</td><td>20.627627893442394</td>\n",
              "        </tr>\n",
              "        \n",
              "      </tbody>\n",
              "    </table>\n",
              "        "
            ]
          },
          "metadata": {},
          "execution_count": 15
        }
      ]
    },
    {
      "cell_type": "code",
      "source": [
        "# Plot the mean of the uniform numbers, stored in ymean\n",
        "plt.clf()\n",
        "ymean.plot()\n",
        "plt.show()"
      ],
      "metadata": {
        "colab": {
          "base_uri": "https://localhost:8080/",
          "height": 430
        },
        "id": "HmYfCAawRakj",
        "outputId": "c6021d9e-72f9-42cb-d8e5-925376a58e9e"
      },
      "execution_count": 16,
      "outputs": [
        {
          "output_type": "display_data",
          "data": {
            "text/plain": [
              "<Figure size 640x480 with 1 Axes>"
            ],
            "image/png": "[encoded data removed]"
          },
          "metadata": {}
        }
      ]
    },
    {
      "cell_type": "markdown",
      "source": [
        "CHALLENGE 2.2.6 A\n",
        "\n",
        "CALCULATE THE MEAN AND STANDARD DEVIATION OF THE ymean VARIABLE. HOW SIMILAR OR DIFFERENT ARE THESE VALUES FROM THE MEAN AND STANDARD DEVIATION OF y?"
      ],
      "metadata": {
        "id": "83mFnRSrSlAJ"
      }
    },
    {
      "cell_type": "code",
      "source": [
        "# Calculate mean and standard deviation from y\n",
        "print('Mean of y')\n",
        "print(y.mean())\n",
        "print('\\nStandard deviation of y')\n",
        "print(y.std())\n",
        "print('\\nVariance of y')\n",
        "print(y.std() ** 2)"
      ],
      "metadata": {
        "colab": {
          "base_uri": "https://localhost:8080/"
        },
        "id": "BNFLHr9Yg5kA",
        "outputId": "15719aee-60a2-4879-fd50-62d7b02db832"
      },
      "execution_count": 20,
      "outputs": [
        {
          "output_type": "stream",
          "name": "stdout",
          "text": [
            "Mean of y\n",
            "19.794289322790764\n",
            "\n",
            "Standard deviation of y\n",
            "9.988194015514356\n",
            "\n",
            "Variance of y\n",
            "99.7640196915568\n"
          ]
        }
      ]
    },
    {
      "cell_type": "code",
      "source": [
        "# Calculate mean and standard deviation from ymean\n",
        "print('Mean of ymean')\n",
        "print(ymean.mean())\n",
        "print('\\nStandard deviation of ymean')\n",
        "print(ymean.std())\n",
        "print('\\nVariance of ymean')\n",
        "print(ymean.std() ** 2)"
      ],
      "metadata": {
        "colab": {
          "base_uri": "https://localhost:8080/"
        },
        "id": "yZa7wYbWgoJq",
        "outputId": "62148159-3b27-4cb0-f7cc-19f02d2aedb5"
      },
      "execution_count": 19,
      "outputs": [
        {
          "output_type": "stream",
          "name": "stdout",
          "text": [
            "Mean of ymean\n",
            "20.01455514898683\n",
            "\n",
            "Standard deviation of ymean\n",
            "2.013995748952789\n",
            "\n",
            "Variance of ymean\n",
            "4.056178876799906\n"
          ]
        }
      ]
    },
    {
      "cell_type": "markdown",
      "source": [
        "WE HAVE A SLIGHT DIFFERENCE BETWEEN THE MEAN OF Y AND THE ONE FROM YMEAN, EVEN THOUGH IT'S NOT QUITE THE DIFFERENCE. WHERE WE CAN SEE A BIGGER DIFFERENCE IS IN THE STANDARD DEVIATION, SINCE WE ARE WORKING WITH THE MEAN OF 25 UNIFORM NUMBERS, WE GET LESS DISPERSE DATA. WHICH CAN EXPLAIN THE DIFFERENCE IN THE STANDARD DEVIATION OF ~7.974, AND A DIFFERENCE OF ~95.704 IN THEIR VARIANCES."
      ],
      "metadata": {
        "id": "QCfSzkuwg8R-"
      }
    },
    {
      "cell_type": "markdown",
      "source": [
        "CHALLENGE 2.2.6 B\n",
        "\n",
        "INTERPRET THE ABOVE HISTOGRAM OF THE SAMPLES OF ymean.\n",
        "\n",
        "WE CAN NOTE LESS DISPERSE DATA, SINCE OUR STANDARD DEVIATION IS SMALLER, OUR MOST FREQUENT DATA WILL BE CENTERED WITHIN THE VALUES OF 18 AND 22."
      ],
      "metadata": {
        "id": "VMcHZqWRSuqC"
      }
    },
    {
      "cell_type": "code",
      "source": [
        "# Plot both data (y and ymean)\n",
        "plt.clf()\n",
        "ymean.plot()\n",
        "y.plot()\n",
        "plt.show()"
      ],
      "metadata": {
        "colab": {
          "base_uri": "https://localhost:8080/",
          "height": 430
        },
        "id": "AEn_jN6XSz6-",
        "outputId": "a2f5c557-43ff-499f-d1e7-350156a028e4"
      },
      "execution_count": 21,
      "outputs": [
        {
          "output_type": "display_data",
          "data": {
            "text/plain": [
              "<Figure size 640x480 with 1 Axes>"
            ],
            "image/png": "[encoded data removed]"
          },
          "metadata": {}
        }
      ]
    },
    {
      "cell_type": "markdown",
      "source": [
        "CHALLENGE 2.2.6 C\n",
        "\n",
        "WHAT DO YOU SEE? COMPARE BOTH HISTOGRAMS. BRIEFLY EXPLAIN WHAT YOU THINK THAT HAPPEND.\n",
        "\n",
        "DUE TO THE FACT THAT WE ARE WORKING WITH THE MEAN OF 25 UNIFORM NUMBERS, THE DISPERSION OF THE DATA WE ARE PLOTTING IS DECREASING, THEREFORE, THE MOST FREQUENT DATA WILL BE FOUND NEAR THE MEAN VALUE. ON THE OTHER HAND, WHEN HAVING A SINGLE VARIABLE BEING PLOTTED, THE DISPERSION OF THE DATA WILL BE MORE NOTORIOUS."
      ],
      "metadata": {
        "id": "ZzvLILL5S-Sx"
      }
    },
    {
      "cell_type": "markdown",
      "source": [
        "CHALLENGE 4.1\n",
        "\n",
        "Collect real data for Microsoft (MSFT) stock and do a hypothesis testing to see whether the mean of monthly cc returns of Microsoft is greater than zero.\n",
        "\n",
        "You have to do the following:\n",
        "\n",
        "Run a t-test to compare whether the mean return of MSFT is greater than zero.\n",
        "\n",
        "To do a hypothesis test, we usually do the following steps:\n",
        "\n",
        "    A. DEFINE THE VARIABLE OF STUDY. In this case it will be the mean of MSFT cc returns\n",
        "\n",
        "    B. WRITE THE NULL AND THE ALTERNATIVE HYPOTHESIS.\n",
        "\n",
        "    C. CALCULATE THE STANDARD ERROR, WHICH IS THE STANDARD DEVIATION OF THE VARIABLE OF STUDY.\n",
        "\n",
        "    D. CALCULATE THE t-statistic (t-value). EXPLAIN/INTERPRET THE t-statistic.\n",
        "\n",
        "    E. CALCULATE THE 95% CONFIDENCE INTERVAL OF THE SAMPLE MEAN\n",
        "\n",
        "    F. WRITE YOUR CONCLUSION OF THE t-TEST\n"
      ],
      "metadata": {
        "id": "YwsjJLrzTGUR"
      }
    },
    {
      "cell_type": "markdown",
      "source": [
        "A. DEFINE VARIABLE OF STUDY\n",
        "\n",
        "THE VARIABLE OF STUDY FOR THIS CASE IS THE MEAN OF MSFT CC RETURNS"
      ],
      "metadata": {
        "id": "gb2lthfClCF4"
      }
    },
    {
      "cell_type": "markdown",
      "source": [
        "B.\n",
        "\n",
        "NULL HYPOTHESIS\n",
        "\n",
        "- THE MEAN OF MONTHLY CC RETURNS OF MICROSOFT IS EQUAL TO ZERO.\n",
        "\n",
        "ALTERNATIVE HYPOTHESIS\n",
        "\n",
        "- THE MEAN OF MONTHLY CC RETURNS OF MICROSOFT IS GREATER THAN ZERO."
      ],
      "metadata": {
        "id": "TD4LBGj0llZd"
      }
    },
    {
      "cell_type": "code",
      "source": [
        "# Import library\n",
        "import yfinance as yf\n",
        "# Collect data for MSFT stock\n",
        "msft = yf.download(tickers=\"MSFT\", start=\"2019-01-01\",interval=\"1mo\")\n",
        "msft"
      ],
      "metadata": {
        "colab": {
          "base_uri": "https://localhost:8080/",
          "height": 1000
        },
        "id": "a6kmXELAmLhG",
        "outputId": "04a145ff-63c6-43a9-b0af-41fa7797ad12"
      },
      "execution_count": 24,
      "outputs": [
        {
          "output_type": "stream",
          "name": "stdout",
          "text": [
            "\r[*********************100%%**********************]  1 of 1 completed\n"
          ]
        },
        {
          "output_type": "execute_result",
          "data": {
            "text/plain": [
              "                  Open        High         Low       Close   Adj Close  \\\n",
              "Date                                                                     \n",
              "2019-01-01   99.550003  107.900002   97.199997  104.430000   99.367699   \n",
              "2019-02-01  103.779999  113.239998  102.349998  112.029999  106.599297   \n",
              "2019-03-01  112.889999  120.820000  108.800003  117.940002  112.702065   \n",
              "2019-04-01  118.949997  131.369995  118.099998  130.600006  124.799828   \n",
              "2019-05-01  130.529999  130.649994  123.040001  123.680000  118.187149   \n",
              "2019-06-01  123.849998  138.399994  119.010002  133.960007  128.484497   \n",
              "2019-07-01  136.630005  141.679993  134.669998  136.270004  130.700027   \n",
              "2019-08-01  137.000000  140.940002  130.779999  137.860001  132.225037   \n",
              "2019-09-01  136.610001  142.369995  134.509995  139.029999  133.791245   \n",
              "2019-10-01  139.660004  145.669998  133.220001  143.369995  137.967728   \n",
              "2019-11-01  144.259995  152.500000  142.970001  151.380005  145.675919   \n",
              "2019-12-01  151.809998  159.550003  146.649994  157.699997  152.274139   \n",
              "2020-01-01  158.779999  174.050003  156.509995  170.229996  164.373032   \n",
              "2020-02-01  170.429993  190.699997  152.000000  162.009995  156.435867   \n",
              "2020-03-01  165.309998  175.000000  132.520004  157.710007  152.699753   \n",
              "2020-04-01  153.000000  180.399994  150.360001  179.210007  173.516708   \n",
              "2020-05-01  175.800003  187.509995  173.800003  183.250000  177.428391   \n",
              "2020-06-01  182.539993  204.399994  181.350006  203.509995  197.593521   \n",
              "2020-07-01  203.139999  216.380005  197.509995  205.009995  199.049896   \n",
              "2020-08-01  211.520004  231.149994  203.139999  225.529999  218.973328   \n",
              "2020-09-01  225.509995  232.860001  196.250000  210.330002  204.708862   \n",
              "2020-10-01  213.490005  225.210007  199.619995  202.470001  197.058960   \n",
              "2020-11-01  204.289993  228.119995  200.119995  214.070007  208.348969   \n",
              "2020-12-01  214.509995  227.179993  209.110001  222.419998  217.042557   \n",
              "2021-01-01  222.529999  242.639999  211.940002  231.960007  226.351898   \n",
              "2021-02-01  235.059998  246.130005  227.880005  232.380005  226.761734   \n",
              "2021-03-01  235.899994  241.050003  224.259995  235.770004  230.599655   \n",
              "2021-04-01  238.470001  263.190002  238.050003  252.179993  246.649796   \n",
              "2021-05-01  253.399994  254.350006  238.070007  249.679993  244.204605   \n",
              "2021-06-01  251.229996  271.649994  243.000000  270.899994  265.571045   \n",
              "2021-07-01  269.609985  290.149994  269.600006  284.910004  279.305511   \n",
              "2021-08-01  286.359985  305.839996  283.739990  301.880005  295.941711   \n",
              "2021-09-01  302.869995  305.320007  281.619995  281.920013  276.903412   \n",
              "2021-10-01  282.119995  332.000000  280.250000  331.619995  325.719055   \n",
              "2021-11-01  331.359985  349.670013  326.369995  330.589996  324.707397   \n",
              "2021-12-01  335.130005  344.299988  317.250000  336.320007  330.939758   \n",
              "2022-01-01  335.350006  338.000000  276.049988  310.980011  306.005127   \n",
              "2022-02-01  310.410004  315.119995  271.519989  298.790009  294.010132   \n",
              "2022-03-01  296.399994  315.950012  270.000000  308.309998  304.005127   \n",
              "2022-04-01  309.369995  315.109985  270.000000  277.519989  273.645081   \n",
              "2022-05-01  277.709991  290.880005  246.440002  271.869995  268.073944   \n",
              "2022-06-01  275.200012  277.690002  241.509995  256.829987  253.833786   \n",
              "2022-07-01  256.390015  282.000000  245.940002  280.739990  277.464783   \n",
              "2022-08-01  277.820007  294.179993  260.660004  261.470001  258.419617   \n",
              "2022-09-01  258.869995  267.450012  232.729996  232.899994  230.671524   \n",
              "2022-10-01  235.410004  251.039993  219.130005  232.130005  229.908905   \n",
              "2022-11-01  234.600006  255.330002  213.429993  255.139999  252.698730   \n",
              "2022-12-01  253.869995  263.920013  233.869995  239.820007  238.194702   \n",
              "2023-01-01  243.080002  249.830002  219.350006  247.809998  246.130554   \n",
              "2023-02-01  248.000000  276.760010  245.470001  249.419998  247.729645   \n",
              "2023-03-01  250.759995  289.269989  245.610001  288.299988  287.063354   \n",
              "2023-04-01  286.519989  308.929993  275.369995  307.260010  305.942047   \n",
              "2023-05-01  306.970001  335.940002  303.399994  328.390015  326.981384   \n",
              "2023-06-01  325.929993  351.470001  322.500000  340.540009  339.820526   \n",
              "2023-07-01  339.190002  366.779999  327.000000  335.920013  335.210297   \n",
              "2023-08-01  335.190002  338.540009  311.549988  322.459991  322.459991   \n",
              "\n",
              "                Volume  \n",
              "Date                    \n",
              "2019-01-01   714212800  \n",
              "2019-02-01   469095900  \n",
              "2019-03-01   589095800  \n",
              "2019-04-01   433157700  \n",
              "2019-05-01   547218800  \n",
              "2019-06-01   508324300  \n",
              "2019-07-01   484079900  \n",
              "2019-08-01   584482000  \n",
              "2019-09-01   472544800  \n",
              "2019-10-01   549523400  \n",
              "2019-11-01   392371800  \n",
              "2019-12-01   450303300  \n",
              "2020-01-01   558530000  \n",
              "2020-02-01   887522300  \n",
              "2020-03-01  1612695500  \n",
              "2020-04-01   984705000  \n",
              "2020-05-01   688845000  \n",
              "2020-06-01   764965400  \n",
              "2020-07-01   770190800  \n",
              "2020-08-01   692423900  \n",
              "2020-09-01   768176300  \n",
              "2020-10-01   631618000  \n",
              "2020-11-01   573443000  \n",
              "2020-12-01   594761700  \n",
              "2021-01-01   648076400  \n",
              "2021-02-01   490962200  \n",
              "2021-03-01   724945800  \n",
              "2021-04-01   568661600  \n",
              "2021-05-01   495084900  \n",
              "2021-06-01   508572200  \n",
              "2021-07-01   522672700  \n",
              "2021-08-01   441308900  \n",
              "2021-09-01   502918700  \n",
              "2021-10-01   516515800  \n",
              "2021-11-01   509885200  \n",
              "2021-12-01   625674800  \n",
              "2022-01-01   947531400  \n",
              "2022-02-01   697050600  \n",
              "2022-03-01   734334200  \n",
              "2022-04-01   627343400  \n",
              "2022-05-01   742902000  \n",
              "2022-06-01   621372300  \n",
              "2022-07-01   534891800  \n",
              "2022-08-01   477157600  \n",
              "2022-09-01   575586600  \n",
              "2022-10-01   671225100  \n",
              "2022-11-01   615296000  \n",
              "2022-12-01   591358700  \n",
              "2023-01-01   666168100  \n",
              "2023-02-01   615501000  \n",
              "2023-03-01   747635000  \n",
              "2023-04-01   551497100  \n",
              "2023-05-01   600807200  \n",
              "2023-06-01   547588700  \n",
              "2023-07-01   666764400  \n",
              "2023-08-01   353621963  "
            ],
            "text/html": [
              "\n",
              "  <div id=\"df-c3e49a54-4dc8-48b7-b25d-2065e191a635\" class=\"colab-df-container\">\n",
              "    <div>\n",
              "<style scoped>\n",
              "    .dataframe tbody tr th:only-of-type {\n",
              "        vertical-align: middle;\n",
              "    }\n",
              "\n",
              "    .dataframe tbody tr th {\n",
              "        vertical-align: top;\n",
              "    }\n",
              "\n",
              "    .dataframe thead th {\n",
              "        text-align: right;\n",
              "    }\n",
              "</style>\n",
              "<table border=\"1\" class=\"dataframe\">\n",
              "  <thead>\n",
              "    <tr style=\"text-align: right;\">\n",
              "      <th></th>\n",
              "      <th>Open</th>\n",
              "      <th>High</th>\n",
              "      <th>Low</th>\n",
              "      <th>Close</th>\n",
              "      <th>Adj Close</th>\n",
              "      <th>Volume</th>\n",
              "    </tr>\n",
              "    <tr>\n",
              "      <th>Date</th>\n",
              "      <th></th>\n",
              "      <th></th>\n",
              "      <th></th>\n",
              "      <th></th>\n",
              "      <th></th>\n",
              "      <th></th>\n",
              "    </tr>\n",
              "  </thead>\n",
              "  <tbody>\n",
              "    <tr>\n",
              "      <th>2019-01-01</th>\n",
              "      <td>99.550003</td>\n",
              "      <td>107.900002</td>\n",
              "      <td>97.199997</td>\n",
              "      <td>104.430000</td>\n",
              "      <td>99.367699</td>\n",
              "      <td>714212800</td>\n",
              "    </tr>\n",
              "    <tr>\n",
              "      <th>2019-02-01</th>\n",
              "      <td>103.779999</td>\n",
              "      <td>113.239998</td>\n",
              "      <td>102.349998</td>\n",
              "      <td>112.029999</td>\n",
              "      <td>106.599297</td>\n",
              "      <td>469095900</td>\n",
              "    </tr>\n",
              "    <tr>\n",
              "      <th>2019-03-01</th>\n",
              "      <td>112.889999</td>\n",
              "      <td>120.820000</td>\n",
              "      <td>108.800003</td>\n",
              "      <td>117.940002</td>\n",
              "      <td>112.702065</td>\n",
              "      <td>589095800</td>\n",
              "    </tr>\n",
              "    <tr>\n",
              "      <th>2019-04-01</th>\n",
              "      <td>118.949997</td>\n",
              "      <td>131.369995</td>\n",
              "      <td>118.099998</td>\n",
              "      <td>130.600006</td>\n",
              "      <td>124.799828</td>\n",
              "      <td>433157700</td>\n",
              "    </tr>\n",
              "    <tr>\n",
              "      <th>2019-05-01</th>\n",
              "      <td>130.529999</td>\n",
              "      <td>130.649994</td>\n",
              "      <td>123.040001</td>\n",
              "      <td>123.680000</td>\n",
              "      <td>118.187149</td>\n",
              "      <td>547218800</td>\n",
              "    </tr>\n",
              "    <tr>\n",
              "      <th>2019-06-01</th>\n",
              "      <td>123.849998</td>\n",
              "      <td>138.399994</td>\n",
              "      <td>119.010002</td>\n",
              "      <td>133.960007</td>\n",
              "      <td>128.484497</td>\n",
              "      <td>508324300</td>\n",
              "    </tr>\n",
              "    <tr>\n",
              "      <th>2019-07-01</th>\n",
              "      <td>136.630005</td>\n",
              "      <td>141.679993</td>\n",
              "      <td>134.669998</td>\n",
              "      <td>136.270004</td>\n",
              "      <td>130.700027</td>\n",
              "      <td>484079900</td>\n",
              "    </tr>\n",
              "    <tr>\n",
              "      <th>2019-08-01</th>\n",
              "      <td>137.000000</td>\n",
              "      <td>140.940002</td>\n",
              "      <td>130.779999</td>\n",
              "      <td>137.860001</td>\n",
              "      <td>132.225037</td>\n",
              "      <td>584482000</td>\n",
              "    </tr>\n",
              "    <tr>\n",
              "      <th>2019-09-01</th>\n",
              "      <td>136.610001</td>\n",
              "      <td>142.369995</td>\n",
              "      <td>134.509995</td>\n",
              "      <td>139.029999</td>\n",
              "      <td>133.791245</td>\n",
              "      <td>472544800</td>\n",
              "    </tr>\n",
              "    <tr>\n",
              "      <th>2019-10-01</th>\n",
              "      <td>139.660004</td>\n",
              "      <td>145.669998</td>\n",
              "      <td>133.220001</td>\n",
              "      <td>143.369995</td>\n",
              "      <td>137.967728</td>\n",
              "      <td>549523400</td>\n",
              "    </tr>\n",
              "    <tr>\n",
              "      <th>2019-11-01</th>\n",
              "      <td>144.259995</td>\n",
              "      <td>152.500000</td>\n",
              "      <td>142.970001</td>\n",
              "      <td>151.380005</td>\n",
              "      <td>145.675919</td>\n",
              "      <td>392371800</td>\n",
              "    </tr>\n",
              "    <tr>\n",
              "      <th>2019-12-01</th>\n",
              "      <td>151.809998</td>\n",
              "      <td>159.550003</td>\n",
              "      <td>146.649994</td>\n",
              "      <td>157.699997</td>\n",
              "      <td>152.274139</td>\n",
              "      <td>450303300</td>\n",
              "    </tr>\n",
              "    <tr>\n",
              "      <th>2020-01-01</th>\n",
              "      <td>158.779999</td>\n",
              "      <td>174.050003</td>\n",
              "      <td>156.509995</td>\n",
              "      <td>170.229996</td>\n",
              "      <td>164.373032</td>\n",
              "      <td>558530000</td>\n",
              "    </tr>\n",
              "    <tr>\n",
              "      <th>2020-02-01</th>\n",
              "      <td>170.429993</td>\n",
              "      <td>190.699997</td>\n",
              "      <td>152.000000</td>\n",
              "      <td>162.009995</td>\n",
              "      <td>156.435867</td>\n",
              "      <td>887522300</td>\n",
              "    </tr>\n",
              "    <tr>\n",
              "      <th>2020-03-01</th>\n",
              "      <td>165.309998</td>\n",
              "      <td>175.000000</td>\n",
              "      <td>132.520004</td>\n",
              "      <td>157.710007</td>\n",
              "      <td>152.699753</td>\n",
              "      <td>1612695500</td>\n",
              "    </tr>\n",
              "    <tr>\n",
              "      <th>2020-04-01</th>\n",
              "      <td>153.000000</td>\n",
              "      <td>180.399994</td>\n",
              "      <td>150.360001</td>\n",
              "      <td>179.210007</td>\n",
              "      <td>173.516708</td>\n",
              "      <td>984705000</td>\n",
              "    </tr>\n",
              "    <tr>\n",
              "      <th>2020-05-01</th>\n",
              "      <td>175.800003</td>\n",
              "      <td>187.509995</td>\n",
              "      <td>173.800003</td>\n",
              "      <td>183.250000</td>\n",
              "      <td>177.428391</td>\n",
              "      <td>688845000</td>\n",
              "    </tr>\n",
              "    <tr>\n",
              "      <th>2020-06-01</th>\n",
              "      <td>182.539993</td>\n",
              "      <td>204.399994</td>\n",
              "      <td>181.350006</td>\n",
              "      <td>203.509995</td>\n",
              "      <td>197.593521</td>\n",
              "      <td>764965400</td>\n",
              "    </tr>\n",
              "    <tr>\n",
              "      <th>2020-07-01</th>\n",
              "      <td>203.139999</td>\n",
              "      <td>216.380005</td>\n",
              "      <td>197.509995</td>\n",
              "      <td>205.009995</td>\n",
              "      <td>199.049896</td>\n",
              "      <td>770190800</td>\n",
              "    </tr>\n",
              "    <tr>\n",
              "      <th>2020-08-01</th>\n",
              "      <td>211.520004</td>\n",
              "      <td>231.149994</td>\n",
              "      <td>203.139999</td>\n",
              "      <td>225.529999</td>\n",
              "      <td>218.973328</td>\n",
              "      <td>692423900</td>\n",
              "    </tr>\n",
              "    <tr>\n",
              "      <th>2020-09-01</th>\n",
              "      <td>225.509995</td>\n",
              "      <td>232.860001</td>\n",
              "      <td>196.250000</td>\n",
              "      <td>210.330002</td>\n",
              "      <td>204.708862</td>\n",
              "      <td>768176300</td>\n",
              "    </tr>\n",
              "    <tr>\n",
              "      <th>2020-10-01</th>\n",
              "      <td>213.490005</td>\n",
              "      <td>225.210007</td>\n",
              "      <td>199.619995</td>\n",
              "      <td>202.470001</td>\n",
              "      <td>197.058960</td>\n",
              "      <td>631618000</td>\n",
              "    </tr>\n",
              "    <tr>\n",
              "      <th>2020-11-01</th>\n",
              "      <td>204.289993</td>\n",
              "      <td>228.119995</td>\n",
              "      <td>200.119995</td>\n",
              "      <td>214.070007</td>\n",
              "      <td>208.348969</td>\n",
              "      <td>573443000</td>\n",
              "    </tr>\n",
              "    <tr>\n",
              "      <th>2020-12-01</th>\n",
              "      <td>214.509995</td>\n",
              "      <td>227.179993</td>\n",
              "      <td>209.110001</td>\n",
              "      <td>222.419998</td>\n",
              "      <td>217.042557</td>\n",
              "      <td>594761700</td>\n",
              "    </tr>\n",
              "    <tr>\n",
              "      <th>2021-01-01</th>\n",
              "      <td>222.529999</td>\n",
              "      <td>242.639999</td>\n",
              "      <td>211.940002</td>\n",
              "      <td>231.960007</td>\n",
              "      <td>226.351898</td>\n",
              "      <td>648076400</td>\n",
              "    </tr>\n",
              "    <tr>\n",
              "      <th>2021-02-01</th>\n",
              "      <td>235.059998</td>\n",
              "      <td>246.130005</td>\n",
              "      <td>227.880005</td>\n",
              "      <td>232.380005</td>\n",
              "      <td>226.761734</td>\n",
              "      <td>490962200</td>\n",
              "    </tr>\n",
              "    <tr>\n",
              "      <th>2021-03-01</th>\n",
              "      <td>235.899994</td>\n",
              "      <td>241.050003</td>\n",
              "      <td>224.259995</td>\n",
              "      <td>235.770004</td>\n",
              "      <td>230.599655</td>\n",
              "      <td>724945800</td>\n",
              "    </tr>\n",
              "    <tr>\n",
              "      <th>2021-04-01</th>\n",
              "      <td>238.470001</td>\n",
              "      <td>263.190002</td>\n",
              "      <td>238.050003</td>\n",
              "      <td>252.179993</td>\n",
              "      <td>246.649796</td>\n",
              "      <td>568661600</td>\n",
              "    </tr>\n",
              "    <tr>\n",
              "      <th>2021-05-01</th>\n",
              "      <td>253.399994</td>\n",
              "      <td>254.350006</td>\n",
              "      <td>238.070007</td>\n",
              "      <td>249.679993</td>\n",
              "      <td>244.204605</td>\n",
              "      <td>495084900</td>\n",
              "    </tr>\n",
              "    <tr>\n",
              "      <th>2021-06-01</th>\n",
              "      <td>251.229996</td>\n",
              "      <td>271.649994</td>\n",
              "      <td>243.000000</td>\n",
              "      <td>270.899994</td>\n",
              "      <td>265.571045</td>\n",
              "      <td>508572200</td>\n",
              "    </tr>\n",
              "    <tr>\n",
              "      <th>2021-07-01</th>\n",
              "      <td>269.609985</td>\n",
              "      <td>290.149994</td>\n",
              "      <td>269.600006</td>\n",
              "      <td>284.910004</td>\n",
              "      <td>279.305511</td>\n",
              "      <td>522672700</td>\n",
              "    </tr>\n",
              "    <tr>\n",
              "      <th>2021-08-01</th>\n",
              "      <td>286.359985</td>\n",
              "      <td>305.839996</td>\n",
              "      <td>283.739990</td>\n",
              "      <td>301.880005</td>\n",
              "      <td>295.941711</td>\n",
              "      <td>441308900</td>\n",
              "    </tr>\n",
              "    <tr>\n",
              "      <th>2021-09-01</th>\n",
              "      <td>302.869995</td>\n",
              "      <td>305.320007</td>\n",
              "      <td>281.619995</td>\n",
              "      <td>281.920013</td>\n",
              "      <td>276.903412</td>\n",
              "      <td>502918700</td>\n",
              "    </tr>\n",
              "    <tr>\n",
              "      <th>2021-10-01</th>\n",
              "      <td>282.119995</td>\n",
              "      <td>332.000000</td>\n",
              "      <td>280.250000</td>\n",
              "      <td>331.619995</td>\n",
              "      <td>325.719055</td>\n",
              "      <td>516515800</td>\n",
              "    </tr>\n",
              "    <tr>\n",
              "      <th>2021-11-01</th>\n",
              "      <td>331.359985</td>\n",
              "      <td>349.670013</td>\n",
              "      <td>326.369995</td>\n",
              "      <td>330.589996</td>\n",
              "      <td>324.707397</td>\n",
              "      <td>509885200</td>\n",
              "    </tr>\n",
              "    <tr>\n",
              "      <th>2021-12-01</th>\n",
              "      <td>335.130005</td>\n",
              "      <td>344.299988</td>\n",
              "      <td>317.250000</td>\n",
              "      <td>336.320007</td>\n",
              "      <td>330.939758</td>\n",
              "      <td>625674800</td>\n",
              "    </tr>\n",
              "    <tr>\n",
              "      <th>2022-01-01</th>\n",
              "      <td>335.350006</td>\n",
              "      <td>338.000000</td>\n",
              "      <td>276.049988</td>\n",
              "      <td>310.980011</td>\n",
              "      <td>306.005127</td>\n",
              "      <td>947531400</td>\n",
              "    </tr>\n",
              "    <tr>\n",
              "      <th>2022-02-01</th>\n",
              "      <td>310.410004</td>\n",
              "      <td>315.119995</td>\n",
              "      <td>271.519989</td>\n",
              "      <td>298.790009</td>\n",
              "      <td>294.010132</td>\n",
              "      <td>697050600</td>\n",
              "    </tr>\n",
              "    <tr>\n",
              "      <th>2022-03-01</th>\n",
              "      <td>296.399994</td>\n",
              "      <td>315.950012</td>\n",
              "      <td>270.000000</td>\n",
              "      <td>308.309998</td>\n",
              "      <td>304.005127</td>\n",
              "      <td>734334200</td>\n",
              "    </tr>\n",
              "    <tr>\n",
              "      <th>2022-04-01</th>\n",
              "      <td>309.369995</td>\n",
              "      <td>315.109985</td>\n",
              "      <td>270.000000</td>\n",
              "      <td>277.519989</td>\n",
              "      <td>273.645081</td>\n",
              "      <td>627343400</td>\n",
              "    </tr>\n",
              "    <tr>\n",
              "      <th>2022-05-01</th>\n",
              "      <td>277.709991</td>\n",
              "      <td>290.880005</td>\n",
              "      <td>246.440002</td>\n",
              "      <td>271.869995</td>\n",
              "      <td>268.073944</td>\n",
              "      <td>742902000</td>\n",
              "    </tr>\n",
              "    <tr>\n",
              "      <th>2022-06-01</th>\n",
              "      <td>275.200012</td>\n",
              "      <td>277.690002</td>\n",
              "      <td>241.509995</td>\n",
              "      <td>256.829987</td>\n",
              "      <td>253.833786</td>\n",
              "      <td>621372300</td>\n",
              "    </tr>\n",
              "    <tr>\n",
              "      <th>2022-07-01</th>\n",
              "      <td>256.390015</td>\n",
              "      <td>282.000000</td>\n",
              "      <td>245.940002</td>\n",
              "      <td>280.739990</td>\n",
              "      <td>277.464783</td>\n",
              "      <td>534891800</td>\n",
              "    </tr>\n",
              "    <tr>\n",
              "      <th>2022-08-01</th>\n",
              "      <td>277.820007</td>\n",
              "      <td>294.179993</td>\n",
              "      <td>260.660004</td>\n",
              "      <td>261.470001</td>\n",
              "      <td>258.419617</td>\n",
              "      <td>477157600</td>\n",
              "    </tr>\n",
              "    <tr>\n",
              "      <th>2022-09-01</th>\n",
              "      <td>258.869995</td>\n",
              "      <td>267.450012</td>\n",
              "      <td>232.729996</td>\n",
              "      <td>232.899994</td>\n",
              "      <td>230.671524</td>\n",
              "      <td>575586600</td>\n",
              "    </tr>\n",
              "    <tr>\n",
              "      <th>2022-10-01</th>\n",
              "      <td>235.410004</td>\n",
              "      <td>251.039993</td>\n",
              "      <td>219.130005</td>\n",
              "      <td>232.130005</td>\n",
              "      <td>229.908905</td>\n",
              "      <td>671225100</td>\n",
              "    </tr>\n",
              "    <tr>\n",
              "      <th>2022-11-01</th>\n",
              "      <td>234.600006</td>\n",
              "      <td>255.330002</td>\n",
              "      <td>213.429993</td>\n",
              "      <td>255.139999</td>\n",
              "      <td>252.698730</td>\n",
              "      <td>615296000</td>\n",
              "    </tr>\n",
              "    <tr>\n",
              "      <th>2022-12-01</th>\n",
              "      <td>253.869995</td>\n",
              "      <td>263.920013</td>\n",
              "      <td>233.869995</td>\n",
              "      <td>239.820007</td>\n",
              "      <td>238.194702</td>\n",
              "      <td>591358700</td>\n",
              "    </tr>\n",
              "    <tr>\n",
              "      <th>2023-01-01</th>\n",
              "      <td>243.080002</td>\n",
              "      <td>249.830002</td>\n",
              "      <td>219.350006</td>\n",
              "      <td>247.809998</td>\n",
              "      <td>246.130554</td>\n",
              "      <td>666168100</td>\n",
              "    </tr>\n",
              "    <tr>\n",
              "      <th>2023-02-01</th>\n",
              "      <td>248.000000</td>\n",
              "      <td>276.760010</td>\n",
              "      <td>245.470001</td>\n",
              "      <td>249.419998</td>\n",
              "      <td>247.729645</td>\n",
              "      <td>615501000</td>\n",
              "    </tr>\n",
              "    <tr>\n",
              "      <th>2023-03-01</th>\n",
              "      <td>250.759995</td>\n",
              "      <td>289.269989</td>\n",
              "      <td>245.610001</td>\n",
              "      <td>288.299988</td>\n",
              "      <td>287.063354</td>\n",
              "      <td>747635000</td>\n",
              "    </tr>\n",
              "    <tr>\n",
              "      <th>2023-04-01</th>\n",
              "      <td>286.519989</td>\n",
              "      <td>308.929993</td>\n",
              "      <td>275.369995</td>\n",
              "      <td>307.260010</td>\n",
              "      <td>305.942047</td>\n",
              "      <td>551497100</td>\n",
              "    </tr>\n",
              "    <tr>\n",
              "      <th>2023-05-01</th>\n",
              "      <td>306.970001</td>\n",
              "      <td>335.940002</td>\n",
              "      <td>303.399994</td>\n",
              "      <td>328.390015</td>\n",
              "      <td>326.981384</td>\n",
              "      <td>600807200</td>\n",
              "    </tr>\n",
              "    <tr>\n",
              "      <th>2023-06-01</th>\n",
              "      <td>325.929993</td>\n",
              "      <td>351.470001</td>\n",
              "      <td>322.500000</td>\n",
              "      <td>340.540009</td>\n",
              "      <td>339.820526</td>\n",
              "      <td>547588700</td>\n",
              "    </tr>\n",
              "    <tr>\n",
              "      <th>2023-07-01</th>\n",
              "      <td>339.190002</td>\n",
              "      <td>366.779999</td>\n",
              "      <td>327.000000</td>\n",
              "      <td>335.920013</td>\n",
              "      <td>335.210297</td>\n",
              "      <td>666764400</td>\n",
              "    </tr>\n",
              "    <tr>\n",
              "      <th>2023-08-01</th>\n",
              "      <td>335.190002</td>\n",
              "      <td>338.540009</td>\n",
              "      <td>311.549988</td>\n",
              "      <td>322.459991</td>\n",
              "      <td>322.459991</td>\n",
              "      <td>353621963</td>\n",
              "    </tr>\n",
              "  </tbody>\n",
              "</table>\n",
              "</div>\n",
              "    <div class=\"colab-df-buttons\">\n",
              "\n",
              "  <div class=\"colab-df-container\">\n",
              "    <button class=\"colab-df-convert\" onclick=\"convertToInteractive('df-c3e49a54-4dc8-48b7-b25d-2065e191a635')\"\n",
              "            title=\"Convert this dataframe to an interactive table.\"\n",
              "            style=\"display:none;\">\n",
              "\n",
              "  <svg xmlns=\"http://www.w3.org/2000/svg\" height=\"24px\" viewBox=\"0 -960 960 960\">\n",
              "    <path d=\"M120-120v-720h720v720H120Zm60-500h600v-160H180v160Zm220 220h160v-160H400v160Zm0 220h160v-160H400v160ZM180-400h160v-160H180v160Zm440 0h160v-160H620v160ZM180-180h160v-160H180v160Zm440 0h160v-160H620v160Z\"/>\n",
              "  </svg>\n",
              "    </button>\n",
              "\n",
              "  <style>\n",
              "    .colab-df-container {\n",
              "      display:flex;\n",
              "      gap: 12px;\n",
              "    }\n",
              "\n",
              "    .colab-df-convert {\n",
              "      background-color: #E8F0FE;\n",
              "      border: none;\n",
              "      border-radius: 50%;\n",
              "      cursor: pointer;\n",
              "      display: none;\n",
              "      fill: #1967D2;\n",
              "      height: 32px;\n",
              "      padding: 0 0 0 0;\n",
              "      width: 32px;\n",
              "    }\n",
              "\n",
              "    .colab-df-convert:hover {\n",
              "      background-color: #E2EBFA;\n",
              "      box-shadow: 0px 1px 2px rgba(60, 64, 67, 0.3), 0px 1px 3px 1px rgba(60, 64, 67, 0.15);\n",
              "      fill: #174EA6;\n",
              "    }\n",
              "\n",
              "    .colab-df-buttons div {\n",
              "      margin-bottom: 4px;\n",
              "    }\n",
              "\n",
              "    [theme=dark] .colab-df-convert {\n",
              "      background-color: #3B4455;\n",
              "      fill: #D2E3FC;\n",
              "    }\n",
              "\n",
              "    [theme=dark] .colab-df-convert:hover {\n",
              "      background-color: #434B5C;\n",
              "      box-shadow: 0px 1px 3px 1px rgba(0, 0, 0, 0.15);\n",
              "      filter: drop-shadow(0px 1px 2px rgba(0, 0, 0, 0.3));\n",
              "      fill: #FFFFFF;\n",
              "    }\n",
              "  </style>\n",
              "\n",
              "    <script>\n",
              "      const buttonEl =\n",
              "        document.querySelector('#df-c3e49a54-4dc8-48b7-b25d-2065e191a635 button.colab-df-convert');\n",
              "      buttonEl.style.display =\n",
              "        google.colab.kernel.accessAllowed ? 'block' : 'none';\n",
              "\n",
              "      async function convertToInteractive(key) {\n",
              "        const element = document.querySelector('#df-c3e49a54-4dc8-48b7-b25d-2065e191a635');\n",
              "        const dataTable =\n",
              "          await google.colab.kernel.invokeFunction('convertToInteractive',\n",
              "                                                    [key], {});\n",
              "        if (!dataTable) return;\n",
              "\n",
              "        const docLinkHtml = 'Like what you see? Visit the ' +\n",
              "          '<a target=\"_blank\" href=https://colab.research.google.com/notebooks/data_table.ipynb>data table notebook</a>'\n",
              "          + ' to learn more about interactive tables.';\n",
              "        element.innerHTML = '';\n",
              "        dataTable['output_type'] = 'display_data';\n",
              "        await google.colab.output.renderOutput(dataTable, element);\n",
              "        const docLink = document.createElement('div');\n",
              "        docLink.innerHTML = docLinkHtml;\n",
              "        element.appendChild(docLink);\n",
              "      }\n",
              "    </script>\n",
              "  </div>\n",
              "\n",
              "\n",
              "<div id=\"df-fabd4d08-a2cb-4d1d-add9-a7f73fb486a8\">\n",
              "  <button class=\"colab-df-quickchart\" onclick=\"quickchart('df-fabd4d08-a2cb-4d1d-add9-a7f73fb486a8')\"\n",
              "            title=\"Suggest charts.\"\n",
              "            style=\"display:none;\">\n",
              "\n",
              "<svg xmlns=\"http://www.w3.org/2000/svg\" height=\"24px\"viewBox=\"0 0 24 24\"\n",
              "     width=\"24px\">\n",
              "    <g>\n",
              "        <path d=\"M19 3H5c-1.1 0-2 .9-2 2v14c0 1.1.9 2 2 2h14c1.1 0 2-.9 2-2V5c0-1.1-.9-2-2-2zM9 17H7v-7h2v7zm4 0h-2V7h2v10zm4 0h-2v-4h2v4z\"/>\n",
              "    </g>\n",
              "</svg>\n",
              "  </button>\n",
              "\n",
              "<style>\n",
              "  .colab-df-quickchart {\n",
              "    background-color: #E8F0FE;\n",
              "    border: none;\n",
              "    border-radius: 50%;\n",
              "    cursor: pointer;\n",
              "    display: none;\n",
              "    fill: #1967D2;\n",
              "    height: 32px;\n",
              "    padding: 0 0 0 0;\n",
              "    width: 32px;\n",
              "  }\n",
              "\n",
              "  .colab-df-quickchart:hover {\n",
              "    background-color: #E2EBFA;\n",
              "    box-shadow: 0px 1px 2px rgba(60, 64, 67, 0.3), 0px 1px 3px 1px rgba(60, 64, 67, 0.15);\n",
              "    fill: #174EA6;\n",
              "  }\n",
              "\n",
              "  [theme=dark] .colab-df-quickchart {\n",
              "    background-color: #3B4455;\n",
              "    fill: #D2E3FC;\n",
              "  }\n",
              "\n",
              "  [theme=dark] .colab-df-quickchart:hover {\n",
              "    background-color: #434B5C;\n",
              "    box-shadow: 0px 1px 3px 1px rgba(0, 0, 0, 0.15);\n",
              "    filter: drop-shadow(0px 1px 2px rgba(0, 0, 0, 0.3));\n",
              "    fill: #FFFFFF;\n",
              "  }\n",
              "</style>\n",
              "\n",
              "  <script>\n",
              "    async function quickchart(key) {\n",
              "      const charts = await google.colab.kernel.invokeFunction(\n",
              "          'suggestCharts', [key], {});\n",
              "    }\n",
              "    (() => {\n",
              "      let quickchartButtonEl =\n",
              "        document.querySelector('#df-fabd4d08-a2cb-4d1d-add9-a7f73fb486a8 button');\n",
              "      quickchartButtonEl.style.display =\n",
              "        google.colab.kernel.accessAllowed ? 'block' : 'none';\n",
              "    })();\n",
              "  </script>\n",
              "</div>\n",
              "    </div>\n",
              "  </div>\n"
            ]
          },
          "metadata": {},
          "execution_count": 24
        }
      ]
    },
    {
      "cell_type": "markdown",
      "source": [
        "C. CALCULATE THE STANDARD ERROR"
      ],
      "metadata": {
        "id": "f_xx38LapptY"
      }
    },
    {
      "cell_type": "code",
      "source": [
        "# We calculate de cc returns with the difference between the logarithms from the\n",
        "# actual term and the previous term of the adjusted price\n",
        "msft[\"r\"] = np.log(msft['Adj Close']) - np.log(msft['Adj Close'].shift(1))\n",
        "\n",
        "# Since it's not possible to calculate a return for day 1, we need to get rid of\n",
        "# that NaN value in the first row, so the dropna() function is useful for this.\n",
        "msft = msft.dropna()\n",
        "\n",
        "# Obtain the mean and standard error of the variable of study\n",
        "print('Mean of monthly cc returns')\n",
        "print(msft['r'].mean())\n",
        "print('\\nStandard error of monthly cc returns')\n",
        "n = msft['r'].shape[0]\n",
        "print(msft['r'].std() / n)"
      ],
      "metadata": {
        "colab": {
          "base_uri": "https://localhost:8080/"
        },
        "id": "011KU-dpnmOW",
        "outputId": "a7483ef4-cf21-4532-b3bc-c2492f36305e"
      },
      "execution_count": 38,
      "outputs": [
        {
          "output_type": "stream",
          "name": "stdout",
          "text": [
            "Mean of monthly cc returns\n",
            "0.018572370356749652\n",
            "\n",
            "Standard error of monthly cc returns\n",
            "0.0013369096763440813\n"
          ]
        }
      ]
    },
    {
      "cell_type": "markdown",
      "source": [
        "D. CALCULATE THE T-STATISTICS"
      ],
      "metadata": {
        "id": "vm7_2nJHpxau"
      }
    },
    {
      "cell_type": "code",
      "source": [
        "# T statistics is our sample's mean minus the hypothetical value, all this divided by the standard deviation of the sample, divided by the squared root of the number of samples.\n",
        "t = (msft['r'].mean() - 0) / (msft['r'].std() / np.sqrt(n))\n",
        "# Evaluate if the absolute value of t is greater than 2\n",
        "abs(t) > 2"
      ],
      "metadata": {
        "colab": {
          "base_uri": "https://localhost:8080/"
        },
        "id": "gA-2khvzp3LX",
        "outputId": "0b6958df-9edd-49dd-9289-d9c1306cadcc"
      },
      "execution_count": 45,
      "outputs": [
        {
          "output_type": "execute_result",
          "data": {
            "text/plain": [
              "True"
            ]
          },
          "metadata": {},
          "execution_count": 45
        }
      ]
    },
    {
      "cell_type": "markdown",
      "source": [
        "E. CALCULATE THE 95% CONFIDENCE INTERVAL OF THE SAMPLE MEAN"
      ],
      "metadata": {
        "id": "3fEs0-1vp_9i"
      }
    },
    {
      "cell_type": "code",
      "source": [
        "# The 95% confidence interval of the sample mean is between the range of two standard deviations less than the mean and two standard deviations more than the mean.\n",
        "print('95% confidence interval of the sample mean')\n",
        "interval_low = msft['r'].mean() - (msft['r'].std() * 2)\n",
        "interval_high = msft['r'].mean() + (msft['r'].std() * 2)\n",
        "print(str(interval_low) + ' - ' + str(interval_high))"
      ],
      "metadata": {
        "colab": {
          "base_uri": "https://localhost:8080/"
        },
        "id": "guR6-CnnqIZL",
        "outputId": "ab69b9ba-e8ae-49b8-d075-11f18d6270bc"
      },
      "execution_count": 47,
      "outputs": [
        {
          "output_type": "stream",
          "name": "stdout",
          "text": [
            "95% confidence interval of the sample mean\n",
            "-0.10977095857228215 - 0.14691569928578146\n"
          ]
        }
      ]
    },
    {
      "cell_type": "markdown",
      "source": [
        "F. CONCLUSION OF THE T-TEST\n",
        "\n",
        "SINCE THE T STATISTICS IS GREATER THAN 2, WE HAVE 95% CONFIDENCE LEVEL TO REJECT THE NULL HYPOTHESIS, AND SUPPORT THE ALTERNATIVE HYPOTHESIS."
      ],
      "metadata": {
        "id": "-YrXMZb4rHGX"
      }
    }
  ]
}